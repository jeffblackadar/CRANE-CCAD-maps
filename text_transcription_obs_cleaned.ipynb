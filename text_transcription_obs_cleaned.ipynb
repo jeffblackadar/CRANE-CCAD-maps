{
  "nbformat": 4,
  "nbformat_minor": 0,
  "metadata": {
    "colab": {
      "name": "text_transcription_obs_cleaned.ipynb",
      "provenance": [],
      "collapsed_sections": [],
      "authorship_tag": "ABX9TyMVn/ZHsNx77nWpLL6bNVBJ",
      "include_colab_link": true
    },
    "kernelspec": {
      "name": "python3",
      "display_name": "Python 3"
    }
  },
  "cells": [
    {
      "cell_type": "markdown",
      "metadata": {
        "id": "view-in-github",
        "colab_type": "text"
      },
      "source": [
        "<a href=\"https://colab.research.google.com/github/jeffblackadar/CRANE-CCAD-maps/blob/main/text_transcription_obs_cleaned.ipynb\" target=\"_parent\"><img src=\"https://colab.research.google.com/assets/colab-badge.svg\" alt=\"Open In Colab\"/></a>"
      ]
    },
    {
      "cell_type": "code",
      "metadata": {
        "colab": {
          "base_uri": "https://localhost:8080/"
        },
        "id": "nOxjGGc95kHg",
        "outputId": "b1b43496-1b0b-40ce-d937-0d9f41f18ceb"
      },
      "source": [
        "!pip install --upgrade azure-cognitiveservices-vision-computervision"
      ],
      "execution_count": null,
      "outputs": [
        {
          "output_type": "stream",
          "text": [
            "Collecting azure-cognitiveservices-vision-computervision\n",
            "  Downloading https://files.pythonhosted.org/packages/f2/de/03ddaffabd541829394fb6ee4615f642ed1a14438b4543a01ad58f7d222e/azure_cognitiveservices_vision_computervision-0.7.0-py2.py3-none-any.whl\n",
            "Collecting msrest>=0.5.0\n",
            "\u001b[?25l  Downloading https://files.pythonhosted.org/packages/e8/cc/6c96bfb3d3cf4c3bdedfa6b46503223f4c2a4fa388377697e0f8082a4fed/msrest-0.6.21-py2.py3-none-any.whl (85kB)\n",
            "\u001b[K     |████████████████████████████████| 92kB 4.4MB/s \n",
            "\u001b[?25hCollecting azure-common~=1.1\n",
            "  Downloading https://files.pythonhosted.org/packages/19/2b/46ada1753c4a640bc3ad04a1e20b1a5ea52a8f18079e1b8238e536aa0c98/azure_common-1.1.26-py2.py3-none-any.whl\n",
            "Collecting isodate>=0.6.0\n",
            "\u001b[?25l  Downloading https://files.pythonhosted.org/packages/9b/9f/b36f7774ff5ea8e428fdcfc4bb332c39ee5b9362ddd3d40d9516a55221b2/isodate-0.6.0-py2.py3-none-any.whl (45kB)\n",
            "\u001b[K     |████████████████████████████████| 51kB 6.5MB/s \n",
            "\u001b[?25hRequirement already satisfied, skipping upgrade: requests-oauthlib>=0.5.0 in /usr/local/lib/python3.6/dist-packages (from msrest>=0.5.0->azure-cognitiveservices-vision-computervision) (1.3.0)\n",
            "Requirement already satisfied, skipping upgrade: requests~=2.16 in /usr/local/lib/python3.6/dist-packages (from msrest>=0.5.0->azure-cognitiveservices-vision-computervision) (2.23.0)\n",
            "Requirement already satisfied, skipping upgrade: certifi>=2017.4.17 in /usr/local/lib/python3.6/dist-packages (from msrest>=0.5.0->azure-cognitiveservices-vision-computervision) (2020.12.5)\n",
            "Requirement already satisfied, skipping upgrade: six in /usr/local/lib/python3.6/dist-packages (from isodate>=0.6.0->msrest>=0.5.0->azure-cognitiveservices-vision-computervision) (1.15.0)\n",
            "Requirement already satisfied, skipping upgrade: oauthlib>=3.0.0 in /usr/local/lib/python3.6/dist-packages (from requests-oauthlib>=0.5.0->msrest>=0.5.0->azure-cognitiveservices-vision-computervision) (3.1.0)\n",
            "Requirement already satisfied, skipping upgrade: idna<3,>=2.5 in /usr/local/lib/python3.6/dist-packages (from requests~=2.16->msrest>=0.5.0->azure-cognitiveservices-vision-computervision) (2.10)\n",
            "Requirement already satisfied, skipping upgrade: chardet<4,>=3.0.2 in /usr/local/lib/python3.6/dist-packages (from requests~=2.16->msrest>=0.5.0->azure-cognitiveservices-vision-computervision) (3.0.4)\n",
            "Requirement already satisfied, skipping upgrade: urllib3!=1.25.0,!=1.25.1,<1.26,>=1.21.1 in /usr/local/lib/python3.6/dist-packages (from requests~=2.16->msrest>=0.5.0->azure-cognitiveservices-vision-computervision) (1.24.3)\n",
            "Installing collected packages: isodate, msrest, azure-common, azure-cognitiveservices-vision-computervision\n",
            "Successfully installed azure-cognitiveservices-vision-computervision-0.7.0 azure-common-1.1.26 isodate-0.6.0 msrest-0.6.21\n"
          ],
          "name": "stdout"
        }
      ]
    },
    {
      "cell_type": "code",
      "metadata": {
        "colab": {
          "base_uri": "https://localhost:8080/"
        },
        "id": "cYytlhDT5y-O",
        "outputId": "93597cde-1899-4b8b-f1fc-5fd39107858b"
      },
      "source": [
        "# Mount Google Drive\n",
        "from google.colab import drive\n",
        "drive.mount('/content/drive')"
      ],
      "execution_count": null,
      "outputs": [
        {
          "output_type": "stream",
          "text": [
            "Mounted at /content/drive\n"
          ],
          "name": "stdout"
        }
      ]
    },
    {
      "cell_type": "code",
      "metadata": {
        "id": "GDBOvo3r6Und"
      },
      "source": [
        "settings_path = \"/content/drive/MyDrive/william_white/\"\n",
        "    \n",
        "import os\n",
        "import json\n",
        "# Set the file we wan!pip install --upgrade azure-cognitiveservices-vision-computervisiont to use for authenticating an Azure app\n",
        "# The json file stores the COMPUTER_VISION_SUBSCRIPTION_KEY and COMPUTER_VISION_ENDPOINT so we don't have it in the code.\n",
        "# The json file looks like this:\n",
        "# {\n",
        "# \"COMPUTER_VISION_SUBSCRIPTION_KEY\":\"___the_COMPUTER_VISION_SUBSCRIPTION_KEY___\",\n",
        "# \"COMPUTER_VISION_ENDPOINT\":\"___the_COMPUTER_VISION_ENDPOINT___\"\n",
        "# }\n",
        "# cv.json contains the credentials for this program.\n",
        "cv_settings_file = settings_path+'cv.json'\n",
        "with open(cv_settings_file, \"r\") as read_file:\n",
        "    cv_auth_data = json.load(read_file)\n",
        "\n",
        "os.environ['COMPUTER_VISION_SUBSCRIPTION_KEY']=cv_auth_data[\"COMPUTER_VISION_SUBSCRIPTION_KEY\"]\n",
        "os.environ['COMPUTER_VISION_ENDPOINT']=cv_auth_data[\"COMPUTER_VISION_ENDPOINT\"]"
      ],
      "execution_count": null,
      "outputs": []
    },
    {
      "cell_type": "code",
      "metadata": {
        "id": "n9mFFv8l6ZAN"
      },
      "source": [
        "# https://docs.microsoft.com/en-us/azure/cognitive-services/computer-vision/quickstarts-sdk/python-sdk\n",
        "from azure.cognitiveservices.vision.computervision import ComputerVisionClient\n",
        "from azure.cognitiveservices.vision.computervision.models import OperationStatusCodes\n",
        "from azure.cognitiveservices.vision.computervision.models import VisualFeatureTypes\n",
        "from msrest.authentication import CognitiveServicesCredentials\n",
        "from msrest.authentication import CognitiveServicesCredentials\n",
        "\n",
        "from array import array\n",
        "import os\n",
        "from PIL import Image\n",
        "import sys\n",
        "import time\n",
        "import numpy as np\n",
        "import matplotlib.pyplot as plt\n"
      ],
      "execution_count": null,
      "outputs": []
    },
    {
      "cell_type": "code",
      "metadata": {
        "id": "GV8D7r_H6mI8"
      },
      "source": [
        "# Add your Computer Vision subscription key to your environment variables.\n",
        "if 'COMPUTER_VISION_SUBSCRIPTION_KEY' in os.environ:\n",
        "    subscription_key = os.environ['COMPUTER_VISION_SUBSCRIPTION_KEY']\n",
        "else:\n",
        "    print(\"\\nSet the COMPUTER_VISION_SUBSCRIPTION_KEY environment variable.\\n**Restart your shell or IDE for changes to take effect.**\")\n",
        "    sys.exit()\n",
        "# Add your Computer Vision endpoint to your environment variables.\n",
        "if 'COMPUTER_VISION_ENDPOINT' in os.environ:\n",
        "    endpoint = os.environ['COMPUTER_VISION_ENDPOINT']\n",
        "else:\n",
        "    print(\"\\nSet the COMPUTER_VISION_ENDPOINT environment variable.\\n**Restart your shell or IDE for changes to take effect.**\")\n",
        "    sys.exit()"
      ],
      "execution_count": null,
      "outputs": []
    },
    {
      "cell_type": "code",
      "metadata": {
        "id": "VGv86JJ-6o1M"
      },
      "source": [
        "computervision_client = ComputerVisionClient(endpoint, CognitiveServicesCredentials(subscription_key))"
      ],
      "execution_count": null,
      "outputs": []
    },
    {
      "cell_type": "code",
      "metadata": {
        "id": "aTQ22WjR6tf0"
      },
      "source": [
        "# A function to recognize text in a picture.  The parameter is the path to the picture\n",
        "import math\n",
        "def recognize_text_in_local_image(local_image_handwritten_path):\n",
        "    local_image_handwritten = open(local_image_handwritten_path, \"rb\")\n",
        "    # Call API with image and raw response (allows you to get the operation location)\n",
        "    recognize_handwriting_results = computervision_client.read_in_stream(local_image_handwritten, raw=True, language='fr')\n",
        "\n",
        "    # Get the operation location (URL with an ID at the end) from the response\n",
        "    operation_location_remote = recognize_handwriting_results.headers[\"Operation-Location\"]\n",
        "    # Grab the ID from the URL\n",
        "    operation_id = operation_location_remote.split(\"/\")[-1]\n",
        "\n",
        "    # Call the \"GET\" API and wait for it to retrieve the results \n",
        "    while True:\n",
        "        get_handw_text_results = computervision_client.get_read_result(operation_id)\n",
        "        if get_handw_text_results.status not in ['notStarted', 'running']:\n",
        "            break\n",
        "        time.sleep(1)\n",
        "\n",
        "    # Print the detected text, line by line\n",
        "    lines_of_text = []\n",
        "    if get_handw_text_results.status == OperationStatusCodes.succeeded:\n",
        "        for text_result in get_handw_text_results.analyze_result.read_results:\n",
        "            for line in text_result.lines:\n",
        "                line_data = []  \n",
        "                print(line.text)\n",
        "                line_data.append(line.text)\n",
        "                #print(line.bounding_box)\n",
        "                line_data.append(line.bounding_box)\n",
        "                pts = line_data[1]\n",
        "                xd = abs(pts[4] - pts[0])\n",
        "                yd = abs(pts[5] - pts[1])\n",
        "                word_length = math.sqrt((xd ** 2) + (yd ** 2))\n",
        "            \n",
        "                letter_length = round(word_length/len(line.text))\n",
        "                #print(letter_length)\n",
        "                line_data.append(letter_length)\n",
        "                lines_of_text.append(line_data)\n",
        "    return(lines_of_text) "
      ],
      "execution_count": null,
      "outputs": []
    },
    {
      "cell_type": "code",
      "metadata": {
        "id": "s9TajHYv7ME7"
      },
      "source": [
        "# for each picture in the directory:\n",
        "# pass it to the function to read the text\n",
        "# get the results an append it to a text file extracted_obs.txt\n",
        "\n",
        "import os\n",
        "import cv2\n",
        "from google.colab.patches import cv2_imshow\n",
        "file = open('extracted_obs.txt', 'w')\n",
        "\n",
        "for root, dirs, files in os.walk(\"/content/drive/MyDrive/crane_obs/obs/\", topdown=False):\n",
        "   for name in files:\n",
        "      \n",
        "      #print(name)\n",
        "      name_ext = name[-4:].lower()\n",
        "      if(name_ext==\".png\" or name_ext==\".jpg\"):\n",
        "          picture_path = os.path.join(root, name)\n",
        "          print(picture_path)\n",
        "          file.write('=====\\n')\n",
        "          file.write(picture_path+'\\n')\n",
        "          lines_of_text = recognize_text_in_local_image(picture_path)\n",
        "          for l in lines_of_text:\n",
        "              print(l[0])\n",
        "              file.write(l[0]+'\\n')\n",
        "\n",
        "# closing the file\n",
        "file.close()"
      ],
      "execution_count": null,
      "outputs": []
    },
    {
      "cell_type": "code",
      "metadata": {
        "id": "yzQHFpI-Btto"
      },
      "source": [
        "#To see a picture\n",
        "import cv2\n",
        "img_tmp = cv2.imread(picture_path)\n",
        "cv2_imshow(img_tmp)\n"
      ],
      "execution_count": null,
      "outputs": []
    }
  ]
}