{
  "nbformat": 4,
  "nbformat_minor": 0,
  "metadata": {
    "colab": {
      "name": "gcp_ocr_27febv2.ipynb",
      "provenance": [],
      "collapsed_sections": [],
      "mount_file_id": "1jG_xeEdG2rhCk6DAmU-0AKUZfWt-YOBl",
      "authorship_tag": "ABX9TyPjxwxgq/cxhkdFey9vGb7f",
      "include_colab_link": true
    },
    "kernelspec": {
      "name": "python3",
      "display_name": "Python 3"
    }
  },
  "cells": [
    {
      "cell_type": "markdown",
      "metadata": {
        "id": "view-in-github",
        "colab_type": "text"
      },
      "source": [
        "<a href=\"https://colab.research.google.com/github/jeffblackadar/CRANE-CCAD-maps/blob/main/maps_ocr_google_cloud_vision_1_tile.ipynb\" target=\"_parent\"><img src=\"https://colab.research.google.com/assets/colab-badge.svg\" alt=\"Open In Colab\"/></a>"
      ]
    },
    {
      "cell_type": "markdown",
      "metadata": {
        "id": "6Q-zLHCJ49WI"
      },
      "source": [
        "# Read Arabic text on a map.\r\n",
        "## Uses Google Coud Vision\r\n",
        "### Requires a Google Cloud Vision project with billing enabled\r\n",
        "https://cloud.google.com/vision/docs/setup\r\n",
        "\r\n",
        "### Quick start:\r\n",
        "https://cloud.google.com/vision/docs/ocr"
      ]
    },
    {
      "cell_type": "code",
      "metadata": {
        "id": "3gVcbWn7MuxI"
      },
      "source": [
        "!pip install --upgrade google-cloud-vision\r\n",
        "!pip install arabic_reshaper\r\n",
        "!pip install bidi\r\n",
        "!pip install python-bidi"
      ],
      "execution_count": null,
      "outputs": []
    },
    {
      "cell_type": "code",
      "metadata": {
        "id": "GWdaFqwoOHvh"
      },
      "source": [
        "import os\r\n",
        "os.environ['GOOGLE_APPLICATION_CREDENTIALS'] = '/content/drive/MyDrive/william_white/map-ocr-project-e790a806af19.json'"
      ],
      "execution_count": 8,
      "outputs": []
    },
    {
      "cell_type": "code",
      "metadata": {
        "colab": {
          "base_uri": "https://localhost:8080/"
        },
        "id": "87a9OMOesUlq",
        "outputId": "9f032504-d5f2-44cc-ff88-d14ec40a20b7"
      },
      "source": [
        "# Code adapted from https://cloud.google.com/vision/docs/ocr  (Thanks for this)\r\n",
        "from google.cloud import vision\r\n",
        "import io\r\n",
        "def detect_text(path):\r\n",
        "    lines_of_text = []  \r\n",
        "    \"\"\"Detects text in the file.\"\"\"\r\n",
        "\r\n",
        "    client = vision.ImageAnnotatorClient()\r\n",
        "\r\n",
        "    with io.open(path, 'rb') as image_file:\r\n",
        "        content = image_file.read()\r\n",
        "\r\n",
        "    image = vision.Image(content=content)\r\n",
        "    response = client.text_detection(\r\n",
        "    image=image,\r\n",
        "    image_context={\"language_hints\": [\"ar\"]},  \r\n",
        "     )\r\n",
        "    \r\n",
        "    texts = response.text_annotations\r\n",
        "    print('Texts:')\r\n",
        "\r\n",
        "    for text in texts:\r\n",
        "        line_data = []  \r\n",
        "        ocr_text = text.description\r\n",
        "        print('\\n\"{}\"'.format(text.description))\r\n",
        "\r\n",
        "        #Don't want just numbers\r\n",
        "        if(not ocr_text.isnumeric()):\r\n",
        "            \r\n",
        "            line_data.append(text.description)\r\n",
        "        \r\n",
        "            # store the vertices as a list  x0,y0,x1,y1, etc.\r\n",
        "            points = []\r\n",
        "            for vertex in text.bounding_poly.vertices:\r\n",
        "                points.append(vertex.x)\r\n",
        "                points.append(vertex.y)\r\n",
        "            line_data.append(points)\r\n",
        "            lines_of_text.append(line_data)\r\n",
        "\r\n",
        "    if response.error.message:\r\n",
        "        raise Exception(\r\n",
        "            '{}\\nFor more info on error messages, check: '\r\n",
        "            'https://cloud.google.com/apis/design/errors'.format(\r\n",
        "                response.error.message))\r\n",
        "    \r\n",
        "    if(len(lines_of_text)>1):\r\n",
        "        #It seems the first entry back from Google contains all the text (multiple lines), I just want each line.\r\n",
        "        lines_of_text.pop(0)\r\n",
        "    return(lines_of_text)\r\n",
        "lines_of_text = detect_text('/content/drive/MyDrive/crane_maps_syria/maps_large/Djeble_georef/r07c09.jpg')"
      ],
      "execution_count": 9,
      "outputs": [
        {
          "output_type": "stream",
          "text": [
            "Texts:\n",
            "\n",
            "\"حميميم\n",
            "384\n",
            "2\n",
            "42\n",
            "فعنا\n",
            "تل المفروم\n",
            "38\n",
            "\"\n",
            "\n",
            "\"حميميم\"\n",
            "\n",
            "\"384\"\n",
            "\n",
            "\"2\"\n",
            "\n",
            "\"42\"\n",
            "\n",
            "\"فعنا\"\n",
            "\n",
            "\"تل\"\n",
            "\n",
            "\"المفروم\"\n",
            "\n",
            "\"38\"\n"
          ],
          "name": "stdout"
        }
      ]
    },
    {
      "cell_type": "code",
      "metadata": {
        "id": "gJY46QqoyU5_"
      },
      "source": [
        "import cv2\r\n",
        "import matplotlib.pyplot as plt\r\n",
        "from PIL import ImageFont, ImageDraw, Image\r\n",
        "import arabic_reshaper\r\n",
        "from bidi.algorithm import get_display\r\n",
        "import numpy as np\r\n",
        "\r\n",
        "# This is the 1 map tile we'll use for this example:\r\n",
        "img = cv2.imread('/content/drive/MyDrive/crane_maps_syria/maps_large/Djeble_georef/r07c09.jpg',-1)\r\n",
        "\r\n",
        "# Thanks: https://stackoverflow.com/questions/59896297/how-to-draw-arabic-text-on-the-image-using-cv2-puttextcorrectly-pythonopenc\r\n",
        "\r\n",
        "fontpath = \"/content/drive/MyDrive/crane_font/arial.ttf\" # <== https://www.freefontspro.com/14454/arial.ttf  \r\n",
        "font_pil = ImageFont.truetype(fontpath, 32)\r\n",
        "font                   = cv2.FONT_HERSHEY_SIMPLEX\r\n",
        "fontColor              = (200,0,0)\r\n",
        "\r\n",
        "img_pil = Image.fromarray(img)\r\n",
        "draw = ImageDraw.Draw(img_pil)\r\n",
        "\r\n",
        "for l in lines_of_text:\r\n",
        "    print(l[0])\r\n",
        "    pts = l[1]\r\n",
        "    #This is needed to handle the Arabic text\r\n",
        "    reshaped_text = arabic_reshaper.reshape(l[0])\r\n",
        "    bidi_text = get_display(reshaped_text)\r\n",
        "    draw.text((int(pts[0]), int(pts[1])),bidi_text, font = font_pil,fill=(255,0,0,255))\r\n",
        "     \r\n",
        "img2 = np.array(img_pil)\r\n",
        "for l in lines_of_text:\r\n",
        "    pts = l[1]\r\n",
        "    cv2.rectangle(img2,(int(pts[0]),int(pts[1])),(int(pts[4]),int(pts[5])),fontColor,1) \r\n",
        "\r\n",
        "from matplotlib.pyplot import figure\r\n",
        "figure(num=None, figsize=(20, 20), dpi=80, facecolor='w', edgecolor='k')\r\n",
        "plt.imshow(img2)"
      ],
      "execution_count": null,
      "outputs": []
    }
  ]
}