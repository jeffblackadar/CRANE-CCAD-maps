{
  "nbformat": 4,
  "nbformat_minor": 0,
  "metadata": {
    "colab": {
      "name": "evernote_extract_images_with_keys.ipynb",
      "provenance": [],
      "collapsed_sections": [],
      "toc_visible": true,
      "mount_file_id": "14SMFKoNfwOXoHFrK7EjICg5dVL4Vevxa",
      "authorship_tag": "ABX9TyN1Dnly+XGkfjGAxrnECyPD",
      "include_colab_link": true
    },
    "kernelspec": {
      "name": "python3",
      "display_name": "Python 3"
    }
  },
  "cells": [
    {
      "cell_type": "markdown",
      "metadata": {
        "id": "view-in-github",
        "colab_type": "text"
      },
      "source": [
        "<a href=\"https://colab.research.google.com/github/jeffblackadar/CRANE-CCAD-maps/blob/main/evernote_extract_images_with_keys.ipynb\" target=\"_parent\"><img src=\"https://colab.research.google.com/assets/colab-badge.svg\" alt=\"Open In Colab\"/></a>"
      ]
    },
    {
      "cell_type": "markdown",
      "metadata": {
        "id": "13hXgnDnziPg"
      },
      "source": [
        "# Evernote: Extract Images from a Notebook\r\n",
        "\r\n",
        "## Assumptions:\r\n",
        "* The Evernote notebook is a regular notebook and in production.\r\n",
        "* You have production keys that are also _activated_ for production.  (\"We have activated your API key (username-xxxx) on our production service.\")\r\n",
        "\r\n",
        "## Function\r\n",
        "* This program lists all of the notebooks.\r\n",
        "* For a selected notebook, it loops through all notes in it.\r\n",
        "* For each note, it saves images known as \"resources\" as a file.\r\n",
        "\r\n",
        "## Credit to:\r\n",
        "### Evernote API & Python 3.x, https://xbopp.com/evernote-to-python1/\r\n",
        "### Evernote Developer Documentation https://dev.evernote.com/doc/\r\n",
        "### Evernote API reference https://dev.evernote.com/doc/reference/\r\n",
        "### Search https://dev.evernote.com/doc/articles/search.php\r\n",
        "### Resources https://dev.evernote.com/doc/articles/resources.php\r\n",
        "### Developer token https://sandbox.evernote.com/api/DeveloperToken.action\r\n",
        "### Get keys https://dev.evernote.com/doc/articles/authentication.php"
      ]
    },
    {
      "cell_type": "code",
      "metadata": {
        "colab": {
          "base_uri": "https://localhost:8080/"
        },
        "id": "dLEPzxVqzdKo",
        "outputId": "c5778462-7b97-43ca-bfbb-4e16dda516ab"
      },
      "source": [
        "!pip install git+https://github.com/evernote/evernote-sdk-python3.git\r\n",
        "!pip install oauth2"
      ],
      "execution_count": 1,
      "outputs": [
        {
          "output_type": "stream",
          "text": [
            "Collecting git+https://github.com/evernote/evernote-sdk-python3.git\n",
            "  Cloning https://github.com/evernote/evernote-sdk-python3.git to /tmp/pip-req-build-1_u3d7ea\n",
            "  Running command git clone -q https://github.com/evernote/evernote-sdk-python3.git /tmp/pip-req-build-1_u3d7ea\n",
            "Requirement already satisfied (use --upgrade to upgrade): evernote3==1.25.0 from git+https://github.com/evernote/evernote-sdk-python3.git in /usr/local/lib/python3.6/dist-packages\n",
            "Requirement already satisfied: oauthlib in /usr/local/lib/python3.6/dist-packages (from evernote3==1.25.0) (3.1.0)\n",
            "Requirement already satisfied: requests_oauthlib in /usr/local/lib/python3.6/dist-packages (from evernote3==1.25.0) (1.3.0)\n",
            "Requirement already satisfied: requests>=2.0.0 in /usr/local/lib/python3.6/dist-packages (from requests_oauthlib->evernote3==1.25.0) (2.23.0)\n",
            "Requirement already satisfied: certifi>=2017.4.17 in /usr/local/lib/python3.6/dist-packages (from requests>=2.0.0->requests_oauthlib->evernote3==1.25.0) (2020.12.5)\n",
            "Requirement already satisfied: idna<3,>=2.5 in /usr/local/lib/python3.6/dist-packages (from requests>=2.0.0->requests_oauthlib->evernote3==1.25.0) (2.10)\n",
            "Requirement already satisfied: urllib3!=1.25.0,!=1.25.1,<1.26,>=1.21.1 in /usr/local/lib/python3.6/dist-packages (from requests>=2.0.0->requests_oauthlib->evernote3==1.25.0) (1.24.3)\n",
            "Requirement already satisfied: chardet<4,>=3.0.2 in /usr/local/lib/python3.6/dist-packages (from requests>=2.0.0->requests_oauthlib->evernote3==1.25.0) (3.0.4)\n",
            "Building wheels for collected packages: evernote3\n",
            "  Building wheel for evernote3 (setup.py) ... \u001b[?25l\u001b[?25hdone\n",
            "  Created wheel for evernote3: filename=evernote3-1.25.0-cp36-none-any.whl size=143704 sha256=3a613f47dedcd144bffafcda54247ff458aa09fd52c535d0bfcbbff6c0fe018b\n",
            "  Stored in directory: /tmp/pip-ephem-wheel-cache-6s72jjbz/wheels/63/4a/27/69fc0e9c3afe2951dcfc496e595173fe71a3d456f31c8d0666\n",
            "Successfully built evernote3\n",
            "Requirement already satisfied: oauth2 in /usr/local/lib/python3.6/dist-packages (1.9.0.post1)\n",
            "Requirement already satisfied: httplib2 in /usr/local/lib/python3.6/dist-packages (from oauth2) (0.17.4)\n"
          ],
          "name": "stdout"
        }
      ]
    },
    {
      "cell_type": "code",
      "metadata": {
        "colab": {
          "base_uri": "https://localhost:8080/"
        },
        "id": "mE1RnJDP3Pco",
        "outputId": "5f4ddac6-636c-40c7-ae1e-ef31e4b41e47"
      },
      "source": [
        "from google.colab import drive\n",
        "drive.mount('/content/drive')"
      ],
      "execution_count": 2,
      "outputs": [
        {
          "output_type": "stream",
          "text": [
            "Drive already mounted at /content/drive; to attempt to forcibly remount, call drive.mount(\"/content/drive\", force_remount=True).\n"
          ],
          "name": "stdout"
        }
      ]
    },
    {
      "cell_type": "markdown",
      "metadata": {
        "id": "ZBHEpti19-81"
      },
      "source": [
        "# Store keys\r\n",
        "* Make a directory for keys called \"evernote_export\"\r\n",
        "* Store key file in /content/drive/MyDrive/evernote_export/evernote_api.json\r\n",
        "\r\n"
      ]
    },
    {
      "cell_type": "code",
      "metadata": {
        "colab": {
          "base_uri": "https://localhost:8080/"
        },
        "id": "TqgEPFmP-iKV",
        "outputId": "862c47ea-8ba6-4422-a08b-b64d4aaae41b"
      },
      "source": [
        "import json\r\n",
        "import evernote.edam.userstore.constants as UserStoreConstants\r\n",
        "import os\r\n",
        "from urllib import parse\r\n",
        "from evernote.api.client import EvernoteClient\r\n",
        "from evernote.edam.notestore.ttypes import NoteFilter, NotesMetadataResultSpec\r\n",
        "import evernote.edam.userstore.UserStore as UserStore\r\n",
        "import evernote.edam.notestore.NoteStore as NoteStore\r\n",
        "import evernote.edam.userstore.constants as UserStoreConstants\r\n",
        "import thrift.protocol.TBinaryProtocol as TBinaryProtocol\r\n",
        "\r\n",
        "# settings_path holds where the keys are.  This will be the folder where images are saved.\r\n",
        "settings_path = \"/content/drive/MyDrive/evernote_export/\"\r\n",
        "# This is the exact name of the notebook to export\r\n",
        "target_notebook_title =\"jeffblackadar's notebook\"\r\n",
        "\r\n",
        "evernote_settings_file = settings_path+'evernote_api.json'\r\n",
        "with open(evernote_settings_file, \"r\") as read_file:\r\n",
        "    evernote_auth_data = json.load(read_file)\r\n",
        "\r\n",
        "consumer_key_json = evernote_auth_data[\"consumer_key\"]\r\n",
        "consumer_secret_json = evernote_auth_data[\"consumer_secret\"]\r\n",
        "application_name_json = evernote_auth_data[\"application_name\"]\r\n",
        "\r\n",
        "print(\"Check you have the right application name: \",application_name_json)\r\n",
        "\r\n",
        "#************************\r\n",
        "# sandbox = True, for production\r\n",
        "# sandbox = False, for development\r\n",
        "#************************\r\n",
        "\r\n",
        "client = EvernoteClient(\r\n",
        "    consumer_key=consumer_key_json,\r\n",
        "    consumer_secret=consumer_secret_json,\r\n",
        "    sandbox = False,\r\n",
        "    china = False   \r\n",
        "\r\n",
        ")\r\n",
        "\r\n",
        "request_token = client.get_request_token(callback_url='https://jeffblackadar.ca')\r\n",
        "\r\n",
        "auth_url = client.get_authorize_url(request_token)\r\n",
        "print(\"*******************************************************\")\r\n",
        "print(\"* click on the URL below.  Then copy the whole URL. Paste it into   url =\"\"   (This is a manual way to make Oauth happen without writing a full client application.)\")\r\n",
        "print(\"*   |\")\r\n",
        "print(\"*  \\|/\")\r\n",
        "print(\"*   V\")\r\n",
        "print(auth_url)"
      ],
      "execution_count": 4,
      "outputs": [
        {
          "output_type": "stream",
          "text": [
            "Check you have the right application name:  extract_images\n",
            "*******************************************************\n",
            "* click on the URL below.  Then copy the whole URL. Paste it into   url =   (This is a manual way to make Oauth happen without writing a full client application.)\n",
            "*   |\n",
            "*  \\|/\n",
            "*   V\n",
            "https://www.evernote.com/OAuth.action?oauth_token=jeffblackadar-5809.1776F696C3C.68747470733A2F2F6A656666626C61636B616461722E6361.592934653ABA1DBD1F37F310B7964FCB\n"
          ],
          "name": "stdout"
        }
      ]
    },
    {
      "cell_type": "code",
      "metadata": {
        "id": "F3MOH2gz_0Ai"
      },
      "source": [
        "# Paste the URL in here\r\n",
        "#          |\r\n",
        "#         \\|/\r\n",
        "#          V\r\n",
        "url = \"https://jeffblackadar.ca/?oauth_token=jeffblackadar-5809.1776F696C3C.68747470733A2F2F6A656666626C61636B616461722E6361.592934653ABA1DBD1F37F310B7964FCB&oauth_verifier=3C5E28FCF40F063FE4938F1480456D9C&sandbox_lnb=false\"\r\n",
        "\r\n",
        "request_dict = dict(parse.parse_qs(parse.urlsplit(url).query))\r\n",
        "\r\n",
        "oauth_verifier =request_dict.get('oauth_verifier','')[0]\r\n",
        "access_token = client.get_access_token(\r\n",
        "    request_token['oauth_token'],\r\n",
        "    request_token['oauth_token_secret'],\r\n",
        "    request_dict.get('oauth_verifier','')[0]\r\n",
        ")\r\n"
      ],
      "execution_count": 5,
      "outputs": []
    },
    {
      "cell_type": "code",
      "metadata": {
        "colab": {
          "base_uri": "https://localhost:8080/"
        },
        "id": "_A5WwXPOiDFw",
        "outputId": "47ac1f26-b147-481d-cc11-687001392900"
      },
      "source": [
        "import io\r\n",
        "from PIL import Image\r\n",
        "client = EvernoteClient(token=access_token, sandbox=False, china=False, service_host=\"www.evernote.com\")\r\n",
        "#client = EvernoteClient(token=access_token)\r\n",
        "\r\n",
        "user_store = client.get_user_store()\r\n",
        "version_ok = user_store.checkVersion(\r\n",
        "    \"Evernote EDAMTest (Python)\",\r\n",
        "    UserStoreConstants.EDAM_VERSION_MAJOR,\r\n",
        "    UserStoreConstants.EDAM_VERSION_MINOR\r\n",
        ")\r\n",
        "print(\"Is my Evernote API version up to date? \", str(version_ok))\r\n",
        "if not version_ok:\r\n",
        "    exit(1)\r\n",
        "\r\n",
        "note_store = client.get_note_store()\r\n",
        "\r\n",
        "# List all of the notebooks in the user's account\r\n",
        "notebooks = note_store.listNotebooks()\r\n",
        "print(\"Found \", len(notebooks), \" notebooks:\")\r\n",
        "myNotebookGuid = \"\"\r\n",
        "for notebook in notebooks:\r\n",
        "    print(\"notebook title: \",notebook.name, \"guid: \", notebook.guid)\r\n",
        "    # look for a specific notebook\r\n",
        "    if(notebook.name == target_notebook_title):\r\n",
        "        myNotebookGuid = notebook.guid    \r\n",
        "\r\n",
        "if myNotebookGuid == \"\":\r\n",
        "    print(\"Specific notebook note found. Is the name spelled right?\")\r\n",
        "    exit(1)\r\n",
        "\r\n",
        "#sort of pointless - since we already have a handle on it above.\r\n",
        "myNotebook = note_store.getNotebook(myNotebookGuid)\r\n",
        "\r\n",
        "# filter to get notes inside the notebook\r\n",
        "filter = NoteFilter()\r\n",
        "filter.notebookGuid = myNotebookGuid\r\n",
        "filter.ascending = False\r\n",
        "\r\n",
        "spec = NotesMetadataResultSpec()\r\n",
        "spec.includeTitle = True\r\n",
        "\r\n",
        "# May need to change\r\n",
        "ourNoteList = note_store.findNotesMetadata(access_token, filter, 0, 100, spec)\r\n",
        "\r\n",
        "image_destination = settings_path\r\n",
        "\r\n",
        "for note in ourNoteList.notes:\r\n",
        "    wholeNote = note_store.getNote(access_token, note.guid, True, True, True, True) \r\n",
        "    print (\"Content length: %d\" % wholeNote.contentLength)\r\n",
        "    note_resources = wholeNote.resources\r\n",
        "    for note_resource in note_resources:\r\n",
        "        file_content = note_resource.data.body\r\n",
        "        file_type = note_resource.mime\r\n",
        "        file_name = note_resource.attributes.fileName\r\n",
        "        if(file_name is None):\r\n",
        "            print(\"Note resource with file_name = None\")  \r\n",
        "        else:\r\n",
        "            # Thanks to https://stackoverflow.com/questions/42339876/error-unicodedecodeerror-utf-8-codec-cant-decode-byte-0xff-in-position-0-in\r\n",
        "            decode_bytes = file_content.decode('ISO-8859-1')\r\n",
        "            resource_bytes = bytes(decode_bytes, 'ISO-8859-1')\r\n",
        "            stream = io.BytesIO(resource_bytes)\r\n",
        "            img = Image.open(stream)\r\n",
        "            print(\"saving\",file_name)\r\n",
        "            img.save(os.path.join(image_destination,file_name))"
      ],
      "execution_count": 6,
      "outputs": [
        {
          "output_type": "stream",
          "text": [
            "Is my Evernote API version up to date?  True\n",
            "Found  1  notebooks:\n",
            "notebook title:  jeffblackadar's notebook guid:  28bce459-9f54-448a-b19d-417a22e99b14\n",
            "Content length: 260\n",
            "saving BlueMtHearthforShawnJeff.jpg\n",
            "Content length: 10451\n",
            "Note resource with file_name = None\n",
            "Note resource with file_name = None\n",
            "Note resource with file_name = None\n",
            "Note resource with file_name = None\n",
            "Note resource with file_name = None\n",
            "Note resource with file_name = None\n",
            "Note resource with file_name = None\n",
            "Note resource with file_name = None\n",
            "Note resource with file_name = None\n"
          ],
          "name": "stdout"
        }
      ]
    }
  ]
}