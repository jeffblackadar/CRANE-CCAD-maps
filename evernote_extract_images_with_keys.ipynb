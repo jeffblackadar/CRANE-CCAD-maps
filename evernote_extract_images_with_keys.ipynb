{
  "nbformat": 4,
  "nbformat_minor": 0,
  "metadata": {
    "colab": {
      "name": "evernote_extract_images_with_keys.ipynb",
      "provenance": [],
      "collapsed_sections": [],
      "toc_visible": true,
      "mount_file_id": "14SMFKoNfwOXoHFrK7EjICg5dVL4Vevxa",
      "authorship_tag": "ABX9TyO+xv6GigWpYFVc1+At8kUx",
      "include_colab_link": true
    },
    "kernelspec": {
      "name": "python3",
      "display_name": "Python 3"
    }
  },
  "cells": [
    {
      "cell_type": "markdown",
      "metadata": {
        "id": "view-in-github",
        "colab_type": "text"
      },
      "source": [
        "<a href=\"https://colab.research.google.com/github/jeffblackadar/CRANE-CCAD-maps/blob/main/evernote_extract_images_with_keys.ipynb\" target=\"_parent\"><img src=\"https://colab.research.google.com/assets/colab-badge.svg\" alt=\"Open In Colab\"/></a>"
      ]
    },
    {
      "cell_type": "markdown",
      "metadata": {
        "id": "13hXgnDnziPg"
      },
      "source": [
        "# Evernote: Extract Images from a Notebook\r\n",
        "\r\n",
        "## Assumptions:\r\n",
        "* The Evernote notebook is a regular notebook and in production.\r\n",
        "* You have production keys that are also _activated_ for production.  (\"We have activated your API key (username-xxxx) on our production service.\")\r\n",
        "\r\n",
        "## Function\r\n",
        "* This program lists all of the notebooks.\r\n",
        "* For a selected notebook, it loops through all notes in it.\r\n",
        "* For each note, it saves images known as \"resources\" as a file.\r\n",
        "\r\n",
        "## Credit to:\r\n",
        "### Evernote API & Python 3.x, https://xbopp.com/evernote-to-python1/\r\n",
        "### Evernote Developer Documentation https://dev.evernote.com/doc/\r\n",
        "### Evernote API reference https://dev.evernote.com/doc/reference/\r\n",
        "### Search https://dev.evernote.com/doc/articles/search.php\r\n",
        "### Resources https://dev.evernote.com/doc/articles/resources.php\r\n",
        "### Developer token https://sandbox.evernote.com/api/DeveloperToken.action\r\n",
        "### Get keys https://dev.evernote.com/doc/articles/authentication.php"
      ]
    },
    {
      "cell_type": "code",
      "metadata": {
        "id": "dLEPzxVqzdKo"
      },
      "source": [
        "!pip install git+https://github.com/evernote/evernote-sdk-python3.git\r\n",
        "!pip install oauth2"
      ],
      "execution_count": null,
      "outputs": []
    },
    {
      "cell_type": "code",
      "metadata": {
        "id": "mE1RnJDP3Pco"
      },
      "source": [
        "from google.colab import drive\n",
        "drive.mount('/content/drive')"
      ],
      "execution_count": null,
      "outputs": []
    },
    {
      "cell_type": "markdown",
      "metadata": {
        "id": "ZBHEpti19-81"
      },
      "source": [
        "# Store keys\r\n",
        "* Make a directory for keys called \"evernote_export\"\r\n",
        "* Store key file in /content/drive/MyDrive/evernote_export/evernote_api.json\r\n",
        "\r\n"
      ]
    },
    {
      "cell_type": "code",
      "metadata": {
        "id": "TqgEPFmP-iKV"
      },
      "source": [
        "import json\r\n",
        "import evernote.edam.userstore.constants as UserStoreConstants\r\n",
        "import os\r\n",
        "from urllib import parse\r\n",
        "from evernote.api.client import EvernoteClient\r\n",
        "from evernote.edam.notestore.ttypes import NoteFilter, NotesMetadataResultSpec\r\n",
        "import evernote.edam.userstore.UserStore as UserStore\r\n",
        "import evernote.edam.notestore.NoteStore as NoteStore\r\n",
        "import evernote.edam.userstore.constants as UserStoreConstants\r\n",
        "import thrift.protocol.TBinaryProtocol as TBinaryProtocol\r\n",
        "\r\n",
        "# settings_path holds where the keys are.  This will be the folder where images are saved.\r\n",
        "settings_path = \"/content/drive/MyDrive/evernote_export/\"\r\n",
        "# This is the exact name of the notebook to export\r\n",
        "target_notebook_title =\"jeffblackadar's notebook\"\r\n",
        "\r\n",
        "evernote_settings_file = settings_path+'evernote_api.json'\r\n",
        "with open(evernote_settings_file, \"r\") as read_file:\r\n",
        "    evernote_auth_data = json.load(read_file)\r\n",
        "\r\n",
        "consumer_key_json = evernote_auth_data[\"consumer_key\"]\r\n",
        "consumer_secret_json = evernote_auth_data[\"consumer_secret\"]\r\n",
        "application_name_json = evernote_auth_data[\"application_name\"]\r\n",
        "\r\n",
        "print(\"Check you have the right application name: \",application_name_json)\r\n",
        "\r\n",
        "#************************\r\n",
        "# sandbox = True, for production\r\n",
        "# sandbox = False, for development\r\n",
        "#************************\r\n",
        "\r\n",
        "client = EvernoteClient(\r\n",
        "    consumer_key=consumer_key_json,\r\n",
        "    consumer_secret=consumer_secret_json,\r\n",
        "    sandbox = False,\r\n",
        "    china = False   \r\n",
        "\r\n",
        ")\r\n",
        "\r\n",
        "request_token = client.get_request_token(callback_url='https://jeffblackadar.ca')\r\n",
        "\r\n",
        "auth_url = client.get_authorize_url(request_token)\r\n",
        "print(\"*******************************************************\")\r\n",
        "print(\"* click on the URL below.  Then copy the whole URL. Paste it into   url =\"\"   (This is a manual way to make Oauth happen without writing a full client application.)\")\r\n",
        "print(\"*   |\")\r\n",
        "print(\"*  \\|/\")\r\n",
        "print(\"*   V\")\r\n",
        "print(auth_url)"
      ],
      "execution_count": null,
      "outputs": []
    },
    {
      "cell_type": "markdown",
      "metadata": {
        "id": "kW8BdjpZbGjM"
      },
      "source": [
        "After clicking on the URL above, you will be asked to log into Evernote and authorize this application. Once you log in, you should be transferred to jeffblackadar.ca. Copy the whole URL once that page opens."
      ]
    },
    {
      "cell_type": "code",
      "metadata": {
        "id": "F3MOH2gz_0Ai"
      },
      "source": [
        "# Paste the URL in here\r\n",
        "#          |\r\n",
        "#         \\|/\r\n",
        "#          V\r\n",
        "url = \"https://jeffblackadar.ca/?oauth_token=jeffblackadar-5809.1776e\"\r\n",
        "\r\n",
        "request_dict = dict(parse.parse_qs(parse.urlsplit(url).query))\r\n",
        "\r\n",
        "oauth_verifier =request_dict.get('oauth_verifier','')[0]\r\n",
        "access_token = client.get_access_token(\r\n",
        "    request_token['oauth_token'],\r\n",
        "    request_token['oauth_token_secret'],\r\n",
        "    request_dict.get('oauth_verifier','')[0]\r\n",
        ")\r\n"
      ],
      "execution_count": null,
      "outputs": []
    },
    {
      "cell_type": "code",
      "metadata": {
        "id": "_A5WwXPOiDFw"
      },
      "source": [
        "import io\r\n",
        "from PIL import Image\r\n",
        "client = EvernoteClient(token=access_token, sandbox=False, china=False, service_host=\"www.evernote.com\")\r\n",
        "#client = EvernoteClient(token=access_token)\r\n",
        "\r\n",
        "user_store = client.get_user_store()\r\n",
        "version_ok = user_store.checkVersion(\r\n",
        "    \"Evernote EDAMTest (Python)\",\r\n",
        "    UserStoreConstants.EDAM_VERSION_MAJOR,\r\n",
        "    UserStoreConstants.EDAM_VERSION_MINOR\r\n",
        ")\r\n",
        "print(\"Is my Evernote API version up to date? \", str(version_ok))\r\n",
        "if not version_ok:\r\n",
        "    exit(1)\r\n",
        "\r\n",
        "note_store = client.get_note_store()\r\n",
        "\r\n",
        "# List all of the notebooks in the user's account\r\n",
        "notebooks = note_store.listNotebooks()\r\n",
        "print(\"Found \", len(notebooks), \" notebooks:\")\r\n",
        "myNotebookGuid = \"\"\r\n",
        "for notebook in notebooks:\r\n",
        "    print(\"notebook title: \",notebook.name, \"guid: \", notebook.guid)\r\n",
        "    # look for a specific notebook\r\n",
        "    if(notebook.name == target_notebook_title):\r\n",
        "        myNotebookGuid = notebook.guid    \r\n",
        "\r\n",
        "if myNotebookGuid == \"\":\r\n",
        "    print(\"Specific notebook note found. Is the name spelled right?\")\r\n",
        "    exit(1)\r\n",
        "\r\n",
        "#sort of pointless - since we already have a handle on it above.\r\n",
        "myNotebook = note_store.getNotebook(myNotebookGuid)\r\n",
        "\r\n",
        "# filter to get notes inside the notebook\r\n",
        "filter = NoteFilter()\r\n",
        "filter.notebookGuid = myNotebookGuid\r\n",
        "filter.ascending = False\r\n",
        "\r\n",
        "spec = NotesMetadataResultSpec()\r\n",
        "spec.includeTitle = True\r\n",
        "\r\n",
        "# May need to change\r\n",
        "ourNoteList = note_store.findNotesMetadata(access_token, filter, 0, 100, spec)\r\n",
        "\r\n",
        "image_destination = settings_path\r\n",
        "\r\n",
        "for note in ourNoteList.notes:\r\n",
        "    wholeNote = note_store.getNote(access_token, note.guid, True, True, True, True) \r\n",
        "    print (\"Content length: %d\" % wholeNote.contentLength)\r\n",
        "    note_resources = wholeNote.resources\r\n",
        "    for note_resource in note_resources:\r\n",
        "        file_content = note_resource.data.body\r\n",
        "        file_type = note_resource.mime\r\n",
        "        file_name = note_resource.attributes.fileName\r\n",
        "        if(file_name is None):\r\n",
        "            print(\"Note resource with file_name = None\")  \r\n",
        "        else:\r\n",
        "            # Thanks to https://stackoverflow.com/questions/42339876/error-unicodedecodeerror-utf-8-codec-cant-decode-byte-0xff-in-position-0-in\r\n",
        "            decode_bytes = file_content.decode('ISO-8859-1')\r\n",
        "            resource_bytes = bytes(decode_bytes, 'ISO-8859-1')\r\n",
        "            stream = io.BytesIO(resource_bytes)\r\n",
        "            img = Image.open(stream)\r\n",
        "            print(\"saving\",file_name)\r\n",
        "            img.save(os.path.join(image_destination,file_name))"
      ],
      "execution_count": null,
      "outputs": []
    }
  ]
}
