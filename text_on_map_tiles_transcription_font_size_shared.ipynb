{
  "nbformat": 4,
  "nbformat_minor": 0,
  "metadata": {
    "colab": {
      "name": "text_on_map_tiles_transcription_font_size_shared.ipynb",
      "provenance": [],
      "collapsed_sections": [],
      "toc_visible": true,
      "include_colab_link": true
    },
    "kernelspec": {
      "display_name": "Python 3",
      "name": "python3"
    }
  },
  "cells": [
    {
      "cell_type": "markdown",
      "metadata": {
        "id": "view-in-github",
        "colab_type": "text"
      },
      "source": [
        "<a href=\"https://colab.research.google.com/github/jeffblackadar/CRANE-CCAD-maps/blob/main/text_on_map_tiles_transcription_font_size_shared.ipynb\" target=\"_parent\"><img src=\"https://colab.research.google.com/assets/colab-badge.svg\" alt=\"Open In Colab\"/></a>"
      ]
    },
    {
      "cell_type": "markdown",
      "metadata": {
        "id": "UxxHIASLKrkX"
      },
      "source": [
        "This notebook uses Azure Cognitive Services to transcribe text on an old map.\r\n",
        "It then puts the text with its geographic location into a shapefile.\r\n",
        "A blog post about it is here: http://jeffblackadar.ca/"
      ]
    },
    {
      "cell_type": "code",
      "metadata": {
        "id": "KAinl_xpRhx7"
      },
      "source": [
        "# https://towardsdatascience.com/mapping-with-matplotlib-pandas-geopandas-and-basemap-in-python-d11b57ab5dac\r\n",
        "# https://stackoverflow.com/questions/54613992/how-to-install-and-use-basemap-on-google-colab\r\n",
        "# !apt-get install libgeos-3.6.2 (I am not sure if this is needed)\r\n",
        "!apt-get install libgeos-dev\r\n",
        "!pip install https://github.com/matplotlib/basemap/archive/master.zip\r\n",
        "!pip install geopandas\r\n",
        "!pip install contextily\r\n",
        "!pip install -U rasterio"
      ],
      "execution_count": null,
      "outputs": []
    },
    {
      "cell_type": "code",
      "metadata": {
        "id": "GdD4oJj3RlZH"
      },
      "source": [
        "!pip install --upgrade azure-cognitiveservices-vision-computervision"
      ],
      "execution_count": null,
      "outputs": []
    },
    {
      "cell_type": "code",
      "metadata": {
        "id": "z4YdvPXFfbwp"
      },
      "source": [
        "# Mount Google Drive\n",
        "from google.colab import drive\n",
        "drive.mount('/content/drive')"
      ],
      "execution_count": null,
      "outputs": []
    },
    {
      "cell_type": "code",
      "metadata": {
        "id": "E45bxJrpGQI2"
      },
      "source": [
        "settings_path = \"/content/drive/MyDrive/william_white/\"\r\n",
        "    \r\n",
        "import os\r\n",
        "import json\r\n",
        "# Set the file we wan!pip install --upgrade azure-cognitiveservices-vision-computervisiont to use for authenticating an Azure app\r\n",
        "# The json file stores the COMPUTER_VISION_SUBSCRIPTION_KEY and COMPUTER_VISION_ENDPOINT so we don't have it in the code.\r\n",
        "# The json file looks like this:\r\n",
        "# {\r\n",
        "# \"COMPUTER_VISION_SUBSCRIPTION_KEY\":\"___the_COMPUTER_VISION_SUBSCRIPTION_KEY___\",\r\n",
        "# \"COMPUTER_VISION_ENDPOINT\":\"___the_COMPUTER_VISION_ENDPOINT___\"\r\n",
        "# }\r\n",
        "# cv.json contains the credentials for this program.\r\n",
        "cv_settings_file = settings_path+'cv.json'\r\n",
        "with open(cv_settings_file, \"r\") as read_file:\r\n",
        "    cv_auth_data = json.load(read_file)\r\n",
        "\r\n",
        "os.environ['COMPUTER_VISION_SUBSCRIPTION_KEY']=cv_auth_data[\"COMPUTER_VISION_SUBSCRIPTION_KEY\"]\r\n",
        "os.environ['COMPUTER_VISION_ENDPOINT']=cv_auth_data[\"COMPUTER_VISION_ENDPOINT\"]"
      ],
      "execution_count": null,
      "outputs": []
    },
    {
      "cell_type": "code",
      "metadata": {
        "id": "jiMhMG-Dz4mP"
      },
      "source": [
        "# https://docs.microsoft.com/en-us/azure/cognitive-services/computer-vision/quickstarts-sdk/python-sdk\n",
        "from azure.cognitiveservices.vision.computervision import ComputerVisionClient\n",
        "from azure.cognitiveservices.vision.computervision.models import OperationStatusCodes\n",
        "from azure.cognitiveservices.vision.computervision.models import VisualFeatureTypes\n",
        "from msrest.authentication import CognitiveServicesCredentials\n",
        "from msrest.authentication import CognitiveServicesCredentials\n",
        "\n",
        "from array import array\n",
        "import os\n",
        "from PIL import Image\n",
        "import sys\n",
        "import time\n",
        "import numpy as np\n",
        "import matplotlib.pyplot as plt\n",
        "from mpl_toolkits.basemap import Basemap\n",
        "import geopandas as gpd\n",
        "import pandas as pd\n",
        "import contextily as ctx"
      ],
      "execution_count": null,
      "outputs": []
    },
    {
      "cell_type": "code",
      "metadata": {
        "id": "O2-XeDxx309x"
      },
      "source": [
        "# Add your Computer Vision subscription key to your environment variables.\n",
        "if 'COMPUTER_VISION_SUBSCRIPTION_KEY' in os.environ:\n",
        "    subscription_key = os.environ['COMPUTER_VISION_SUBSCRIPTION_KEY']\n",
        "else:\n",
        "    print(\"\\nSet the COMPUTER_VISION_SUBSCRIPTION_KEY environment variable.\\n**Restart your shell or IDE for changes to take effect.**\")\n",
        "    sys.exit()\n",
        "# Add your Computer Vision endpoint to your environment variables.\n",
        "if 'COMPUTER_VISION_ENDPOINT' in os.environ:\n",
        "    endpoint = os.environ['COMPUTER_VISION_ENDPOINT']\n",
        "else:\n",
        "    print(\"\\nSet the COMPUTER_VISION_ENDPOINT environment variable.\\n**Restart your shell or IDE for changes to take effect.**\")\n",
        "    sys.exit()"
      ],
      "execution_count": null,
      "outputs": []
    },
    {
      "cell_type": "code",
      "metadata": {
        "id": "B7RmGZkWBsUU"
      },
      "source": [
        "computervision_client = ComputerVisionClient(endpoint, CognitiveServicesCredentials(subscription_key))"
      ],
      "execution_count": null,
      "outputs": []
    },
    {
      "cell_type": "markdown",
      "metadata": {
        "id": "kHUrsomdcQiN"
      },
      "source": [
        "# Set this up for a series of images"
      ]
    },
    {
      "cell_type": "code",
      "metadata": {
        "id": "uBjCWpjUceO_"
      },
      "source": [
        "import math\r\n",
        "def recognize_text_in_local_image(local_image_handwritten_path):\r\n",
        "    local_image_handwritten = open(local_image_handwritten_path, \"rb\")\r\n",
        "    # Call API with image and raw response (allows you to get the operation location)\r\n",
        "    recognize_handwriting_results = computervision_client.read_in_stream(local_image_handwritten, raw=True)\r\n",
        "\r\n",
        "    # Get the operation location (URL with an ID at the end) from the response\r\n",
        "    operation_location_remote = recognize_handwriting_results.headers[\"Operation-Location\"]\r\n",
        "    # Grab the ID from the URL\r\n",
        "    operation_id = operation_location_remote.split(\"/\")[-1]\r\n",
        "\r\n",
        "    # Call the \"GET\" API and wait for it to retrieve the results \r\n",
        "    while True:\r\n",
        "        get_handw_text_results = computervision_client.get_read_result(operation_id)\r\n",
        "        if get_handw_text_results.status not in ['notStarted', 'running']:\r\n",
        "            break\r\n",
        "        time.sleep(1)\r\n",
        "\r\n",
        "    # Print the detected text, line by line\r\n",
        "    lines_of_text = []\r\n",
        "    if get_handw_text_results.status == OperationStatusCodes.succeeded:\r\n",
        "        for text_result in get_handw_text_results.analyze_result.read_results:\r\n",
        "            for line in text_result.lines:\r\n",
        "                line_data = []  \r\n",
        "                print(line.text)\r\n",
        "                line_data.append(line.text)\r\n",
        "                #print(line.bounding_box)\r\n",
        "                line_data.append(line.bounding_box)\r\n",
        "                pts = line_data[1]\r\n",
        "                xd = abs(pts[4] - pts[0])\r\n",
        "                yd = abs(pts[5] - pts[1])\r\n",
        "                word_length = math.sqrt((xd ** 2) + (yd ** 2))\r\n",
        "            \r\n",
        "                letter_length = round(word_length/len(line.text))\r\n",
        "                print(letter_length)\r\n",
        "                line_data.append(letter_length)\r\n",
        "                lines_of_text.append(line_data)\r\n",
        "    return(lines_of_text)          \r\n"
      ],
      "execution_count": null,
      "outputs": []
    },
    {
      "cell_type": "code",
      "metadata": {
        "id": "Mfh8q9sVnkR_"
      },
      "source": [
        "import cv2\r\n",
        "import matplotlib.pyplot as plt\r\n",
        "import gdal\r\n",
        "import geopandas as gpd\r\n",
        "import pandas as pd\r\n",
        "from shapely.geometry import Point, Polygon\r\n",
        "\r\n",
        "font                   = cv2.FONT_HERSHEY_SIMPLEX\r\n",
        "bottomLeftCornerOfText = (10,500)\r\n",
        "fontScale              = 1\r\n",
        "fontColor              = (0,0,200)\r\n",
        "fontColor_small        = (200,0,0)\r\n",
        "lineType               = 2\r\n",
        "\r\n",
        "def get_point_from_pixel(x,y, xoffset, px_w, rot1, yoffset, px_h, rot2):\r\n",
        "    # supposing x and y are your pixel coordinate this \r\n",
        "    # is how to get the coordinate in space.\r\n",
        "    posX = px_w * x + rot1 * y + xoffset\r\n",
        "    posY = rot2 * x + px_h * y + yoffset\r\n",
        "\r\n",
        "    posX = (px_w * x) + (rot1 * y) + xoffset\r\n",
        "    posY = (px_h * y) + (rot2 * x) + yoffset\r\n",
        "    # shift to the center of the pixel\r\n",
        "    posX += px_w / 2.0\r\n",
        "    posY += px_h / 2.0\r\n",
        "    return(posX,posY)\r\n",
        "\r\n",
        "def geocode_labels(local_image_handwritten_path, lines_of_text):\r\n",
        "    img = cv2.imread(local_image_handwritten_path)\r\n",
        "    img_ds = gdal.Open(local_image_handwritten_path)\r\n",
        "    xoffset, px_w, rot1, yoffset, rot2, px_h  = img_ds.GetGeoTransform()\r\n",
        "\r\n",
        "    line_text_poly = gpd.GeoDataFrame()\r\n",
        "    line_text_poly['geometry'] = None\r\n",
        "    geotif_crs = 32128\r\n",
        "    line_text_poly.crs = (\"EPSG:\" + str(geotif_crs))\r\n",
        "    line_text_poly.geometry = line_text_poly.geometry.to_crs(crs=geotif_crs)\r\n",
        "    line_text_poly.to_crs(crs=geotif_crs)\r\n",
        "    line_text_poly = line_text_poly.to_crs(epsg=geotif_crs)\r\n",
        "   \r\n",
        "    ln = 0\r\n",
        "    for l in lines_of_text:\r\n",
        "        pts = l[1]\r\n",
        "        letter_size = l[2]\r\n",
        "        fColor = fontColor\r\n",
        "        if(letter_size < 30):\r\n",
        "  \r\n",
        "            p=[]\r\n",
        "            for cn in range(0,4):\r\n",
        "                p.append(get_point_from_pixel(pts[0+(cn*2)],pts[1+(cn*2)], xoffset, px_w, rot1, yoffset, px_h, rot2))\r\n",
        "            coords = [(p[0][0], p[0][1]), (p[1][0], p[1][1]), (p[2][0], p[2][1]), (p[3][0], p[3][1])]\r\n",
        "    \r\n",
        "            poly = Polygon(coords)\r\n",
        "            new_tp_row = {'id':ln, 'geometry':poly,'text':l[0]}\r\n",
        "            line_text_poly = line_text_poly.append(new_tp_row, ignore_index=True)\r\n",
        "    \r\n",
        "    return(line_text_poly)"
      ],
      "execution_count": null,
      "outputs": []
    },
    {
      "cell_type": "code",
      "metadata": {
        "id": "PY7xbYxwca2M"
      },
      "source": [
        "        tiles = []\r\n",
        "'''   \r\n",
        "        #no overlap tiles   \r\n",
        "        tiles.append('/content/drive/MyDrive/MaskCNNhearths/HopewellFurnaceMapWork/tif_tiles/r00c01.tif')\r\n",
        "        tiles.append('/content/drive/MyDrive/MaskCNNhearths/HopewellFurnaceMapWork/tif_tiles/r00c02.tif')\r\n",
        "        tiles.append('/content/drive/MyDrive/MaskCNNhearths/HopewellFurnaceMapWork/tif_tiles/r00c03.tif')\r\n",
        "        tiles.append('/content/drive/MyDrive/MaskCNNhearths/HopewellFurnaceMapWork/tif_tiles/r00c04.tif')\r\n",
        "        tiles.append('/content/drive/MyDrive/MaskCNNhearths/HopewellFurnaceMapWork/tif_tiles/r00c05.tif')\r\n",
        "        #tiles.append('/content/drive/MyDrive/MaskCNNhearths/HopewellFurnaceMapWork/tif_tiles/r01c00.tif')\r\n",
        "        tiles.append('/content/drive/MyDrive/MaskCNNhearths/HopewellFurnaceMapWork/tif_tiles/r01c01.tif')\r\n",
        "\r\n",
        "        tiles.append('/content/drive/MyDrive/MaskCNNhearths/HopewellFurnaceMapWork/tif_tiles/r01c02.tif')\r\n",
        "        tiles.append('/content/drive/MyDrive/MaskCNNhearths/HopewellFurnaceMapWork/tif_tiles/r01c03.tif')\r\n",
        "        tiles.append('/content/drive/MyDrive/MaskCNNhearths/HopewellFurnaceMapWork/tif_tiles/r01c04.tif')\r\n",
        "        tiles.append('/content/drive/MyDrive/MaskCNNhearths/HopewellFurnaceMapWork/tif_tiles/r01c05.tif')\r\n",
        "        tiles.append('/content/drive/MyDrive/MaskCNNhearths/HopewellFurnaceMapWork/tif_tiles/r02c00.tif')\r\n",
        "        tiles.append('/content/drive/MyDrive/MaskCNNhearths/HopewellFurnaceMapWork/tif_tiles/r02c01.tif')\r\n",
        "        tiles.append('/content/drive/MyDrive/MaskCNNhearths/HopewellFurnaceMapWork/tif_tiles/r02c02.tif')\r\n",
        "        tiles.append('/content/drive/MyDrive/MaskCNNhearths/HopewellFurnaceMapWork/tif_tiles/r02c03.tif')\r\n",
        "        tiles.append('/content/drive/MyDrive/MaskCNNhearths/HopewellFurnaceMapWork/tif_tiles/r02c04.tif')\r\n",
        "        tiles.append('/content/drive/MyDrive/MaskCNNhearths/HopewellFurnaceMapWork/tif_tiles/r02c05.tif')\r\n",
        "        tiles.append('/content/drive/MyDrive/MaskCNNhearths/HopewellFurnaceMapWork/tif_tiles/r03c00.tif')\r\n",
        "        tiles.append('/content/drive/MyDrive/MaskCNNhearths/HopewellFurnaceMapWork/tif_tiles/r03c01.tif')\r\n",
        "        tiles.append('/content/drive/MyDrive/MaskCNNhearths/HopewellFurnaceMapWork/tif_tiles/r03c02.tif')\r\n",
        "        tiles.append('/content/drive/MyDrive/MaskCNNhearths/HopewellFurnaceMapWork/tif_tiles/r03c03.tif')\r\n",
        "        tiles.append('/content/drive/MyDrive/MaskCNNhearths/HopewellFurnaceMapWork/tif_tiles/r03c04.tif')\r\n",
        "        #tiles.append('/content/drive/MyDrive/MaskCNNhearths/HopewellFurnaceMapWork/tif_tiles/r03c05.tif')\r\n",
        "        tiles.append('/content/drive/MyDrive/MaskCNNhearths/HopewellFurnaceMapWork/tif_tiles/r04c00.tif')\r\n",
        "        tiles.append('/content/drive/MyDrive/MaskCNNhearths/HopewellFurnaceMapWork/tif_tiles/r04c01.tif')\r\n",
        "        tiles.append('/content/drive/MyDrive/MaskCNNhearths/HopewellFurnaceMapWork/tif_tiles/r04c02.tif')\r\n",
        "        tiles.append('/content/drive/MyDrive/MaskCNNhearths/HopewellFurnaceMapWork/tif_tiles/r04c03.tif')\r\n",
        "        tiles.append('/content/drive/MyDrive/MaskCNNhearths/HopewellFurnaceMapWork/tif_tiles/r04c04.tif')\r\n",
        "        #tiles.append('/content/drive/MyDrive/MaskCNNhearths/HopewellFurnaceMapWork/tif_tiles/r04c05.tif')\r\n",
        "        tiles.append('/content/drive/MyDrive/MaskCNNhearths/HopewellFurnaceMapWork/tif_tiles/r05c00.tif')\r\n",
        "        tiles.append('/content/drive/MyDrive/MaskCNNhearths/HopewellFurnaceMapWork/tif_tiles/r05c01.tif')\r\n",
        "        tiles.append('/content/drive/MyDrive/MaskCNNhearths/HopewellFurnaceMapWork/tif_tiles/r05c02.tif')\r\n",
        "        tiles.append('/content/drive/MyDrive/MaskCNNhearths/HopewellFurnaceMapWork/tif_tiles/r05c03.tif')\r\n",
        "        #tiles.append('/content/drive/MyDrive/MaskCNNhearths/HopewellFurnaceMapWork/tif_tiles/r05c04.tif')\r\n",
        "        #tiles.append('/content/drive/MyDrive/MaskCNNhearths/HopewellFurnaceMapWork/tif_tiles/r05c05.tif')                   \r\n",
        "        tiles.append('/content/drive/MyDrive/MaskCNNhearths/HopewellFurnaceMapWork/tif_tiles/r06c00.tif')\r\n",
        "        tiles.append('/content/drive/MyDrive/MaskCNNhearths/HopewellFurnaceMapWork/tif_tiles/r06c01.tif')\r\n",
        "        tiles.append('/content/drive/MyDrive/MaskCNNhearths/HopewellFurnaceMapWork/tif_tiles/r06c02.tif')\r\n",
        "        #tiles.append('/content/drive/MyDrive/MaskCNNhearths/HopewellFurnaceMapWork/tif_tiles/r06c03.tif')\r\n",
        "        #tiles.append('/content/drive/MyDrive/MaskCNNhearths/HopewellFurnaceMapWork/tif_tiles/r06c04.tif')\r\n",
        "        #tiles.append('/content/drive/MyDrive/MaskCNNhearths/HopewellFurnaceMapWork/tif_tiles/r06c05.tif')                   \r\n",
        "        tiles.append('/content/drive/MyDrive/MaskCNNhearths/HopewellFurnaceMapWork/tif_tiles/r07c00.tif')\r\n",
        "        tiles.append('/content/drive/MyDrive/MaskCNNhearths/HopewellFurnaceMapWork/tif_tiles/r07c01.tif')\r\n",
        "        #tiles.append('/content/drive/MyDrive/MaskCNNhearths/HopewellFurnaceMapWork/tif_tiles/r07c02.tif')\r\n",
        "'''\r\n",
        "\r\n",
        "        #tiles.append('/content/drive/MyDrive/MaskCNNhearths/HopewellFurnaceMapWork/tif_tiles/r00c01.tif')\r\n",
        "        #tiles.append('/content/drive/MyDrive/MaskCNNhearths/HopewellFurnaceMapWork/tif_tiles/r00c02.tif')\r\n",
        "        tiles.append('/content/drive/MyDrive/MaskCNNhearths/HopewellFurnaceMapWork/tif_tiles/r00c03.tif')\r\n",
        "        tiles.append('/content/drive/MyDrive/MaskCNNhearths/HopewellFurnaceMapWork/tif_tiles/r00c04.tif')\r\n",
        "        tiles.append('/content/drive/MyDrive/MaskCNNhearths/HopewellFurnaceMapWork/tif_tiles/r00c05.tif')\r\n",
        "        #tiles.append('/content/drive/MyDrive/MaskCNNhearths/HopewellFurnaceMapWork/tif_tiles/r01c00.tif')\r\n",
        "        tiles.append('/content/drive/MyDrive/MaskCNNhearths/HopewellFurnaceMapWork/tif_tiles/r01c01.tif')\r\n",
        "        tiles.append('/content/drive/MyDrive/MaskCNNhearths/HopewellFurnaceMapWork/tif_tiles/r01c02.tif')\r\n",
        "        tiles.append('/content/drive/MyDrive/MaskCNNhearths/HopewellFurnaceMapWork/tif_tiles/r01c03.tif')\r\n",
        "        tiles.append('/content/drive/MyDrive/MaskCNNhearths/HopewellFurnaceMapWork/tif_tiles/r01c04.tif')\r\n",
        "        tiles.append('/content/drive/MyDrive/MaskCNNhearths/HopewellFurnaceMapWork/tif_tiles/r01c05.tif')\r\n",
        "        tiles.append('/content/drive/MyDrive/MaskCNNhearths/HopewellFurnaceMapWork/tif_tiles/r01c06.tif')\r\n",
        "        #tiles.append('/content/drive/MyDrive/MaskCNNhearths/HopewellFurnaceMapWork/tif_tiles/r02c00.tif')\r\n",
        "        tiles.append('/content/drive/MyDrive/MaskCNNhearths/HopewellFurnaceMapWork/tif_tiles/r02c01.tif')\r\n",
        "        tiles.append('/content/drive/MyDrive/MaskCNNhearths/HopewellFurnaceMapWork/tif_tiles/r02c02.tif')\r\n",
        "        tiles.append('/content/drive/MyDrive/MaskCNNhearths/HopewellFurnaceMapWork/tif_tiles/r02c03.tif')\r\n",
        "        tiles.append('/content/drive/MyDrive/MaskCNNhearths/HopewellFurnaceMapWork/tif_tiles/r02c04.tif')\r\n",
        "        tiles.append('/content/drive/MyDrive/MaskCNNhearths/HopewellFurnaceMapWork/tif_tiles/r02c05.tif')\r\n",
        "        tiles.append('/content/drive/MyDrive/MaskCNNhearths/HopewellFurnaceMapWork/tif_tiles/r02c06.tif')\r\n",
        "        tiles.append('/content/drive/MyDrive/MaskCNNhearths/HopewellFurnaceMapWork/tif_tiles/r03c00.tif')\r\n",
        "        tiles.append('/content/drive/MyDrive/MaskCNNhearths/HopewellFurnaceMapWork/tif_tiles/r03c01.tif')\r\n",
        "        tiles.append('/content/drive/MyDrive/MaskCNNhearths/HopewellFurnaceMapWork/tif_tiles/r03c02.tif')\r\n",
        "        tiles.append('/content/drive/MyDrive/MaskCNNhearths/HopewellFurnaceMapWork/tif_tiles/r03c03.tif')\r\n",
        "        tiles.append('/content/drive/MyDrive/MaskCNNhearths/HopewellFurnaceMapWork/tif_tiles/r03c04.tif')\r\n",
        "        tiles.append('/content/drive/MyDrive/MaskCNNhearths/HopewellFurnaceMapWork/tif_tiles/r03c05.tif')\r\n",
        "        tiles.append('/content/drive/MyDrive/MaskCNNhearths/HopewellFurnaceMapWork/tif_tiles/r04c00.tif')\r\n",
        "        tiles.append('/content/drive/MyDrive/MaskCNNhearths/HopewellFurnaceMapWork/tif_tiles/r04c01.tif')\r\n",
        "        tiles.append('/content/drive/MyDrive/MaskCNNhearths/HopewellFurnaceMapWork/tif_tiles/r04c02.tif')\r\n",
        "        tiles.append('/content/drive/MyDrive/MaskCNNhearths/HopewellFurnaceMapWork/tif_tiles/r04c03.tif')\r\n",
        "        tiles.append('/content/drive/MyDrive/MaskCNNhearths/HopewellFurnaceMapWork/tif_tiles/r04c04.tif')\r\n",
        "        tiles.append('/content/drive/MyDrive/MaskCNNhearths/HopewellFurnaceMapWork/tif_tiles/r04c05.tif')\r\n",
        "        tiles.append('/content/drive/MyDrive/MaskCNNhearths/HopewellFurnaceMapWork/tif_tiles/r05c00.tif')\r\n",
        "        tiles.append('/content/drive/MyDrive/MaskCNNhearths/HopewellFurnaceMapWork/tif_tiles/r05c01.tif')\r\n",
        "        tiles.append('/content/drive/MyDrive/MaskCNNhearths/HopewellFurnaceMapWork/tif_tiles/r05c02.tif')\r\n",
        "        tiles.append('/content/drive/MyDrive/MaskCNNhearths/HopewellFurnaceMapWork/tif_tiles/r05c03.tif')\r\n",
        "        tiles.append('/content/drive/MyDrive/MaskCNNhearths/HopewellFurnaceMapWork/tif_tiles/r05c04.tif')\r\n",
        "        #tiles.append('/content/drive/MyDrive/MaskCNNhearths/HopewellFurnaceMapWork/tif_tiles/r05c05.tif')                   \r\n",
        "        tiles.append('/content/drive/MyDrive/MaskCNNhearths/HopewellFurnaceMapWork/tif_tiles/r06c00.tif')\r\n",
        "        tiles.append('/content/drive/MyDrive/MaskCNNhearths/HopewellFurnaceMapWork/tif_tiles/r06c01.tif')\r\n",
        "        tiles.append('/content/drive/MyDrive/MaskCNNhearths/HopewellFurnaceMapWork/tif_tiles/r06c02.tif')\r\n",
        "        tiles.append('/content/drive/MyDrive/MaskCNNhearths/HopewellFurnaceMapWork/tif_tiles/r06c03.tif')\r\n",
        "        #tiles.append('/content/drive/MyDrive/MaskCNNhearths/HopewellFurnaceMapWork/tif_tiles/r06c04.tif')\r\n",
        "        #tiles.append('/content/drive/MyDrive/MaskCNNhearths/HopewellFurnaceMapWork/tif_tiles/r06c05.tif')                   \r\n",
        "        tiles.append('/content/drive/MyDrive/MaskCNNhearths/HopewellFurnaceMapWork/tif_tiles/r07c00.tif')\r\n",
        "        tiles.append('/content/drive/MyDrive/MaskCNNhearths/HopewellFurnaceMapWork/tif_tiles/r07c01.tif')\r\n",
        "        tiles.append('/content/drive/MyDrive/MaskCNNhearths/HopewellFurnaceMapWork/tif_tiles/r07c02.tif')\r\n",
        "        tiles.append('/content/drive/MyDrive/MaskCNNhearths/HopewellFurnaceMapWork/tif_tiles/r08c00.tif')\r\n",
        "        tiles.append('/content/drive/MyDrive/MaskCNNhearths/HopewellFurnaceMapWork/tif_tiles/r08c01.tif')\r\n",
        " \r\n",
        "all_line_text_poly = gpd.GeoDataFrame()\r\n",
        "all_line_text_poly['geometry'] = None\r\n",
        "geotif_crs = 32128\r\n",
        "all_line_text_poly.crs = (\"EPSG:\" + str(geotif_crs))\r\n",
        "all_line_text_poly.geometry = all_line_text_poly.geometry.to_crs(crs=geotif_crs)\r\n",
        "all_line_text_poly.to_crs(crs=geotif_crs)\r\n",
        "all_line_text_poly = all_line_text_poly.to_crs(epsg=geotif_crs)\r\n",
        "\r\n",
        "for t in tiles:\r\n",
        "    lines_of_text = recognize_text_in_local_image(t)\r\n",
        "    temp_df = geocode_labels(t,lines_of_text)\r\n",
        "    all_line_text_poly = gpd.GeoDataFrame(pd.concat([all_line_text_poly,temp_df], ignore_index=True), crs=all_line_text_poly.crs)\r\n",
        "all_line_text_poly.to_file(os.path.join(\"/content/drive/MyDrive/MaskCNNhearths/HopewellFurnaceMapWork/\",\"all_line_text.shp\"))"
      ],
      "execution_count": null,
      "outputs": []
    },
    {
      "cell_type": "code",
      "metadata": {
        "id": "ZbFzMqsDsoi9"
      },
      "source": [
        "line_text_df=gpd.read_file(\"/content/drive/MyDrive/MaskCNNhearths/HopewellFurnaceMapWork/all_line_text.shp\")\r\n",
        "\r\n",
        "print(line_text_df.crs)\r\n",
        "# Change crs to one compatible with basemap\r\n",
        "line_text_df = line_text_df.to_crs(epsg=3857) #3857\r\n",
        "print(line_text_df.crs)\r\n",
        "\r\n",
        "ax = line_text_df.plot(figsize=(40, 40), alpha=0.5, edgecolor='k')\r\n",
        "#ctx.add_basemap(ax)\r\n",
        "\r\n",
        "tile_polys_df=gpd.read_file(\"/content/drive/MyDrive/MaskCNNhearths/HopewellFurnaceMapWork/tif_tiles/tile_polys.shp\")\r\n",
        "tile_polys_df = tile_polys_df.to_crs(epsg=3857) #3857\r\n",
        "tile_polys_df.boundary.plot(ax=ax,color=\"red\",alpha=0.3)\r\n",
        "\r\n",
        "line_text_df['coords'] = line_text_df['geometry'].apply(lambda x: x.representative_point().coords[:])\r\n",
        "line_text_df['coords'] = [coords[0] for coords in line_text_df['coords']]\r\n",
        "for idx, row in line_text_df.iterrows():\r\n",
        "    plt.annotate(s=row['text'], xy=row['coords'],                 horizontalalignment='center')\r\n"
      ],
      "execution_count": null,
      "outputs": []
    },
    {
      "cell_type": "code",
      "metadata": {
        "id": "8wojN5hPw9Bi"
      },
      "source": [
        "glist = line_text_df['geometry']\r\n",
        "tlist = line_text_df['text']\r\n",
        "rows_to_remove = []\r\n",
        "print(len(glist))\r\n",
        "for i in range(len(glist)):\r\n",
        "    for j in range(i + 1, len(glist)):\r\n",
        "        intersect_poly = glist[i].intersection(glist[j])\r\n",
        "\r\n",
        "        if(not intersect_poly.is_empty):\r\n",
        "            if(glist[i].area < glist[j].area):\r\n",
        "                # glist[i] is smaller\r\n",
        "                if(intersect_poly.area/glist[i].area >.8):\r\n",
        "                    print(\"remove i : \", i, j, \"{:3.2%}\".format(intersect_poly.area/glist[i].area), int(intersect_poly.area), \" Remove: \", tlist[i], int(glist[i].area), \" Keep: \", tlist[j], int(glist[j].area))\r\n",
        "                    rows_to_remove.append(i)\r\n",
        "            else:\r\n",
        "                if(glist[i].area >= glist[j].area):  \r\n",
        "                    if(intersect_poly.area/glist[j].area >.8):\r\n",
        "                        print(\"remove j : \", i, j, \"{:3.2%}\".format(intersect_poly.area/glist[j].area), int(intersect_poly.area), \" Keep: \", tlist[i], int(glist[i].area),  \" Remove: \", tlist[j], int(glist[j].area))\r\n",
        "                        rows_to_remove.append(j)\r\n",
        "                    #else:             \r\n",
        "                    #    print(\"keep both: \", i, j, \"{:3.2%}\".format(intersect_poly.area/glist[i].area), \"{:3.2%}\".format(intersect_poly.area/glist[j].area), int(intersect_poly.area), tlist[i], int(glist[i].area), tlist[j], int(glist[j].area))\r\n"
      ],
      "execution_count": null,
      "outputs": []
    },
    {
      "cell_type": "code",
      "metadata": {
        "id": "dvsA9yv7DIJV"
      },
      "source": [
        "print(rows_to_remove)\r\n",
        "# remove the rows\r\n",
        "line_text_df_deduplicated = line_text_df\r\n",
        "line_text_df_deduplicated = line_text_df_deduplicated.drop(rows_to_remove)\r\n",
        "print(len(line_text_df_deduplicated['geometry']))\r\n",
        "#print(line_text_df_deduplicated['geometry'],type(line_text_df_deduplicated['geometry']))\r\n",
        "#print(line_text_df_deduplicated['text'],type(line_text_df_deduplicated['text']))\r\n",
        "#print(line_text_df_deduplicated['id'],type(line_text_df_deduplicated['id']))\r\n",
        "print(line_text_df_deduplicated['coords'],type(line_text_df_deduplicated['coords']))\r\n",
        "print(line_text_df_deduplicated)\r\n",
        "print(line_text_df_deduplicated.columns)\r\n",
        "#line_text_df_deduplicated.to_file(os.path.join(\"/content/drive/MyDrive/MaskCNNhearths/HopewellFurnaceMapWork/\",\"all_line_text_deduplicated.shp\"))\r\n",
        "\r\n",
        "print(type(line_text_df_deduplicated))\r\n",
        "#we have to drop this since .shp files don't support tuples\r\n",
        "line_text_df_deduplicated = line_text_df_deduplicated.drop(columns='coords')\r\n",
        "line_text_df_deduplicated.to_file(os.path.join(\"/content/drive/MyDrive/MaskCNNhearths/HopewellFurnaceMapWork/\",\"all_line_text_deduplicated.shp\"))\r\n",
        "print(line_text_df_deduplicated.columns)\r\n"
      ],
      "execution_count": null,
      "outputs": []
    },
    {
      "cell_type": "code",
      "metadata": {
        "id": "sx4uzzB4TZ7m"
      },
      "source": [
        "line_text_df=gpd.read_file(\"/content/drive/MyDrive/MaskCNNhearths/HopewellFurnaceMapWork/all_line_text_deduplicated.shp\")\r\n",
        "\r\n",
        "print(line_text_df.crs)\r\n",
        "# Change crs to one compatible with basemap\r\n",
        "line_text_df = line_text_df.to_crs(epsg=3857) #3857\r\n",
        "print(line_text_df.crs)\r\n",
        "\r\n",
        "ax = line_text_df.plot(figsize=(20, 20), alpha=0.5, edgecolor='k')\r\n",
        "ctx.add_basemap(ax)\r\n",
        "\r\n",
        "tile_polys_df=gpd.read_file(\"/content/drive/MyDrive/MaskCNNhearths/HopewellFurnaceMapWork/tif_tiles/tile_polys.shp\")\r\n",
        "tile_polys_df = tile_polys_df.to_crs(epsg=3857) #3857\r\n",
        "tile_polys_df.boundary.plot(ax=ax,color=\"red\",alpha=0.3)\r\n",
        "\r\n",
        "line_text_df['coords'] = line_text_df['geometry'].apply(lambda x: x.representative_point().coords[:])\r\n",
        "line_text_df['coords'] = [coords[0] for coords in line_text_df['coords']]\r\n",
        "for idx, row in line_text_df.iterrows():\r\n",
        "    plt.annotate(s=row['text'], xy=row['coords'],                 horizontalalignment='center')\r\n",
        "\r\n",
        "\r\n"
      ],
      "execution_count": null,
      "outputs": []
    },
    {
      "cell_type": "markdown",
      "metadata": {
        "id": "EgW1JQQ2KId7"
      },
      "source": [
        "Download /content/line_text.shp to use it in other maps such as ArcGIS Map. "
      ]
    }
  ]
}